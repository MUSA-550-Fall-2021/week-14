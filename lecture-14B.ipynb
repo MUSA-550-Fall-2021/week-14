{
 "cells": [
  {
   "cell_type": "markdown",
   "metadata": {
    "slideshow": {
     "slide_type": "slide"
    }
   },
   "source": [
    "## Week 14B: Dashboarding with Panel and the Holoviz Ecosystem\n",
    "\n",
    "December 8, 2021"
   ]
  },
  {
   "cell_type": "markdown",
   "metadata": {
    "slideshow": {
     "slide_type": "slide"
    }
   },
   "source": [
    "## Last class!\n",
    "\n",
    "- Feedback on proposals via email by the end of the week\n",
    "- Final project due: **end of day on Monday, December 20**\n",
    "\n",
    "**Final project details:** https://github.com/MUSA-550-Fall-2021/final-project"
   ]
  },
  {
   "cell_type": "markdown",
   "metadata": {
    "slideshow": {
     "slide_type": "slide"
    }
   },
   "source": [
    "## Office Hours Next Week\n",
    "\n",
    "I'll hold office hours next week during the regular class slots: \n",
    "\n",
    "- **Monday, Dec 13 from 6 to 7:30pm**\n",
    "- **Wednesday, Dec 15 from 6 to 7:30pm**\n",
    "\n",
    "**Details**\n",
    "- Zoom link and appointment slots are available on Canvas\n",
    "- **If you can't make these times, please email me and we'll find a time to discuss**"
   ]
  },
  {
   "cell_type": "markdown",
   "metadata": {
    "slideshow": {
     "slide_type": "slide"
    }
   },
   "source": [
    "## Wrapping up with Panel\n",
    "\n",
    "<a href=\"https://panel.pyviz.org/\" ><img src=\"imgs/panel_logo.png\" width=300></a>"
   ]
  },
  {
   "cell_type": "markdown",
   "metadata": {
    "slideshow": {
     "slide_type": "slide"
    }
   },
   "source": [
    "## Great examples on their documentation\n",
    "\n",
    "I'd encourage you to spend some time reading through their documentation...\n",
    "\n",
    "- [Documentation homepage](https://panel.holoviz.org)\n",
    "- [User Guide](https://panel.holoviz.org/user_guide/index.html)\n",
    "    - An overview of the concepts powering Panel dashboards\n",
    "- [App Gallery](https://panel.holoviz.org/gallery/index.html)\n",
    "    - Examples of end-to-end apps using Panel\n",
    "- [Reference Gallery](https://panel.holoviz.org/reference/index.html)\n",
    "    - Examples (code snippets) for the many different kinds of components possible in Panel dashboards\n",
    "- [Awesome Panel](https://github.com/MarcSkovMadsen/awesome-panel)\n",
    "    - Github repository of resources and information on Panel\n",
    "    - [Awesome Panel gallery of example apps](https://awesome-panel.org/gallery)"
   ]
  },
  {
   "cell_type": "markdown",
   "metadata": {
    "slideshow": {
     "slide_type": "slide"
    }
   },
   "source": [
    "## Note: Dashboard Templates\n",
    "\n",
    "Panel has recently added default layout templates to provide a simple, well-designed layout for the dashboard. \n",
    "They are all very similar and break the layout into various pieces, including the:\n",
    "\n",
    "- Title\n",
    "- Sidebar\n",
    "- Main content\n",
    "\n",
    "Examples:\n",
    "- [Bootstrap](https://panel.holoviz.org/reference/templates/Bootstrap.html)\n",
    "- [React](https://panel.holoviz.org/reference/templates/React.html)\n",
    "- [Material](https://panel.holoviz.org/reference/templates/Material.html)\n",
    "\n",
    "See more: https://panel.holoviz.org/user_guide/Templates.html"
   ]
  },
  {
   "cell_type": "markdown",
   "metadata": {
    "slideshow": {
     "slide_type": "slide"
    }
   },
   "source": [
    "# Two example repositories on the course's Github"
   ]
  },
  {
   "cell_type": "markdown",
   "metadata": {
    "slideshow": {
     "slide_type": "subslide"
    }
   },
   "source": [
    "## Example 1: Philadelphia shootings\n",
    "\n",
    "- Tools: Panel, Hvplot/Holoviews, Altair, Folium\n",
    "- This includes two separate apps: `app1.ipynb` and `app2.ipynb`\n",
    "\n",
    "https://github.com/MUSA-550-Fall-2021/philadelphia-shootings-app"
   ]
  },
  {
   "cell_type": "markdown",
   "metadata": {
    "slideshow": {
     "slide_type": "subslide"
    }
   },
   "source": [
    "## Example 2: NYC Taxi Trips\n",
    "\n",
    "- Tools: Panel, Hvplot/Holoviews, Altair, Datashader\n",
    "- This includes a single app: `app.ipynb`\n",
    "\n",
    "https://github.com/MUSA-550-Fall-2021/datashader-nyc-taxi-app"
   ]
  },
  {
   "cell_type": "markdown",
   "metadata": {
    "slideshow": {
     "slide_type": "slide"
    }
   },
   "source": [
    "## Summary: Web-based visualization options for the final project\n",
    "\n",
    "- Github Pages\n",
    "- Panel\n",
    "\n",
    "See notes in this week's repository: https://github.com/MUSA-550-Fall-2021/week-14/blob/main/WebVisualizationOptions.md\n"
   ]
  },
  {
   "cell_type": "markdown",
   "metadata": {
    "slideshow": {
     "slide_type": "slide"
    }
   },
   "source": [
    "## Deployment Options\n",
    "\n",
    "See notes in this week's repository: https://github.com/MUSA-550-Fall-2021/week-14/blob/main/DeploymentOptions.md"
   ]
  },
  {
   "cell_type": "markdown",
   "metadata": {
    "slideshow": {
     "slide_type": "slide"
    }
   },
   "source": [
    "## That's it!\n",
    "\n",
    "### Reminder: Office Hours Next Week\n",
    "\n",
    "I'll hold office hours next week during the regular class slots: \n",
    "\n",
    "- **Monday, Dec 13 from 6 to 7:30pm**\n",
    "- **Wednesday, Dec 15 from 6 to 7:30pm**\n",
    "\n",
    "**Details**\n",
    "- Zoom link and appointment slots are available on Canvas\n",
    "- **If you can't make these times, please email me and we'll find a time to discuss**"
   ]
  },
  {
   "cell_type": "markdown",
   "metadata": {
    "slideshow": {
     "slide_type": "slide"
    }
   },
   "source": [
    "## Thank you for a great semester!!\n",
    "\n",
    "<img src=\"https://media.giphy.com/media/n4oKYFlAcv2AU/giphy.gif\" width=600></img>"
   ]
  },
  {
   "cell_type": "code",
   "execution_count": null,
   "metadata": {},
   "outputs": [],
   "source": []
  }
 ],
 "metadata": {
  "celltoolbar": "Slideshow",
  "kernelspec": {
   "display_name": "Python 3 (ipykernel)",
   "language": "python",
   "name": "python3"
  },
  "language_info": {
   "codemirror_mode": {
    "name": "ipython",
    "version": 3
   },
   "file_extension": ".py",
   "mimetype": "text/x-python",
   "name": "python",
   "nbconvert_exporter": "python",
   "pygments_lexer": "ipython3",
   "version": "3.8.10"
  }
 },
 "nbformat": 4,
 "nbformat_minor": 4
}
